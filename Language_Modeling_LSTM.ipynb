{
  "cells": [
    {
      "cell_type": "markdown",
      "metadata": {
        "id": "view-in-github",
        "colab_type": "text"
      },
      "source": [
        "<a href=\"https://colab.research.google.com/github/youiba/Language_Modeling_Using_LSTM/blob/main/Language_Modeling_LSTM.ipynb\" target=\"_parent\"><img src=\"https://colab.research.google.com/assets/colab-badge.svg\" alt=\"Open In Colab\"/></a>"
      ]
    },
    {
      "cell_type": "code",
      "execution_count": null,
      "metadata": {
        "id": "M2ut5ig_0TbL"
      },
      "outputs": [],
      "source": [
        "import tensorflow as tf\n",
        "from tensorflow import keras\n",
        "from keras.preprocessing.text import Tokenizer\n",
        "from keras.layers import Embedding, LSTM, Dense\n",
        "from keras.models import Sequential\n",
        "from keras.utils import to_categorical\n",
        "from keras.optimizers import Adam\n",
        "import pickle\n",
        "import numpy as np\n",
        "import os"
      ]
    },
    {
      "cell_type": "code",
      "execution_count": null,
      "metadata": {
        "colab": {
          "base_uri": "https://localhost:8080/",
          "height": 74
        },
        "id": "HzeIAFZH0WjZ",
        "outputId": "ff890c27-eb4f-4ccf-f2a6-3e3fc1b8984d"
      },
      "outputs": [
        {
          "data": {
            "text/html": [
              "\n",
              "     <input type=\"file\" id=\"files-75cd5bc0-f695-4975-bd16-337e29465fb4\" name=\"files[]\" multiple disabled\n",
              "        style=\"border:none\" />\n",
              "     <output id=\"result-75cd5bc0-f695-4975-bd16-337e29465fb4\">\n",
              "      Upload widget is only available when the cell has been executed in the\n",
              "      current browser session. Please rerun this cell to enable.\n",
              "      </output>\n",
              "      <script>// Copyright 2017 Google LLC\n",
              "//\n",
              "// Licensed under the Apache License, Version 2.0 (the \"License\");\n",
              "// you may not use this file except in compliance with the License.\n",
              "// You may obtain a copy of the License at\n",
              "//\n",
              "//      http://www.apache.org/licenses/LICENSE-2.0\n",
              "//\n",
              "// Unless required by applicable law or agreed to in writing, software\n",
              "// distributed under the License is distributed on an \"AS IS\" BASIS,\n",
              "// WITHOUT WARRANTIES OR CONDITIONS OF ANY KIND, either express or implied.\n",
              "// See the License for the specific language governing permissions and\n",
              "// limitations under the License.\n",
              "\n",
              "/**\n",
              " * @fileoverview Helpers for google.colab Python module.\n",
              " */\n",
              "(function(scope) {\n",
              "function span(text, styleAttributes = {}) {\n",
              "  const element = document.createElement('span');\n",
              "  element.textContent = text;\n",
              "  for (const key of Object.keys(styleAttributes)) {\n",
              "    element.style[key] = styleAttributes[key];\n",
              "  }\n",
              "  return element;\n",
              "}\n",
              "\n",
              "// Max number of bytes which will be uploaded at a time.\n",
              "const MAX_PAYLOAD_SIZE = 100 * 1024;\n",
              "\n",
              "function _uploadFiles(inputId, outputId) {\n",
              "  const steps = uploadFilesStep(inputId, outputId);\n",
              "  const outputElement = document.getElementById(outputId);\n",
              "  // Cache steps on the outputElement to make it available for the next call\n",
              "  // to uploadFilesContinue from Python.\n",
              "  outputElement.steps = steps;\n",
              "\n",
              "  return _uploadFilesContinue(outputId);\n",
              "}\n",
              "\n",
              "// This is roughly an async generator (not supported in the browser yet),\n",
              "// where there are multiple asynchronous steps and the Python side is going\n",
              "// to poll for completion of each step.\n",
              "// This uses a Promise to block the python side on completion of each step,\n",
              "// then passes the result of the previous step as the input to the next step.\n",
              "function _uploadFilesContinue(outputId) {\n",
              "  const outputElement = document.getElementById(outputId);\n",
              "  const steps = outputElement.steps;\n",
              "\n",
              "  const next = steps.next(outputElement.lastPromiseValue);\n",
              "  return Promise.resolve(next.value.promise).then((value) => {\n",
              "    // Cache the last promise value to make it available to the next\n",
              "    // step of the generator.\n",
              "    outputElement.lastPromiseValue = value;\n",
              "    return next.value.response;\n",
              "  });\n",
              "}\n",
              "\n",
              "/**\n",
              " * Generator function which is called between each async step of the upload\n",
              " * process.\n",
              " * @param {string} inputId Element ID of the input file picker element.\n",
              " * @param {string} outputId Element ID of the output display.\n",
              " * @return {!Iterable<!Object>} Iterable of next steps.\n",
              " */\n",
              "function* uploadFilesStep(inputId, outputId) {\n",
              "  const inputElement = document.getElementById(inputId);\n",
              "  inputElement.disabled = false;\n",
              "\n",
              "  const outputElement = document.getElementById(outputId);\n",
              "  outputElement.innerHTML = '';\n",
              "\n",
              "  const pickedPromise = new Promise((resolve) => {\n",
              "    inputElement.addEventListener('change', (e) => {\n",
              "      resolve(e.target.files);\n",
              "    });\n",
              "  });\n",
              "\n",
              "  const cancel = document.createElement('button');\n",
              "  inputElement.parentElement.appendChild(cancel);\n",
              "  cancel.textContent = 'Cancel upload';\n",
              "  const cancelPromise = new Promise((resolve) => {\n",
              "    cancel.onclick = () => {\n",
              "      resolve(null);\n",
              "    };\n",
              "  });\n",
              "\n",
              "  // Wait for the user to pick the files.\n",
              "  const files = yield {\n",
              "    promise: Promise.race([pickedPromise, cancelPromise]),\n",
              "    response: {\n",
              "      action: 'starting',\n",
              "    }\n",
              "  };\n",
              "\n",
              "  cancel.remove();\n",
              "\n",
              "  // Disable the input element since further picks are not allowed.\n",
              "  inputElement.disabled = true;\n",
              "\n",
              "  if (!files) {\n",
              "    return {\n",
              "      response: {\n",
              "        action: 'complete',\n",
              "      }\n",
              "    };\n",
              "  }\n",
              "\n",
              "  for (const file of files) {\n",
              "    const li = document.createElement('li');\n",
              "    li.append(span(file.name, {fontWeight: 'bold'}));\n",
              "    li.append(span(\n",
              "        `(${file.type || 'n/a'}) - ${file.size} bytes, ` +\n",
              "        `last modified: ${\n",
              "            file.lastModifiedDate ? file.lastModifiedDate.toLocaleDateString() :\n",
              "                                    'n/a'} - `));\n",
              "    const percent = span('0% done');\n",
              "    li.appendChild(percent);\n",
              "\n",
              "    outputElement.appendChild(li);\n",
              "\n",
              "    const fileDataPromise = new Promise((resolve) => {\n",
              "      const reader = new FileReader();\n",
              "      reader.onload = (e) => {\n",
              "        resolve(e.target.result);\n",
              "      };\n",
              "      reader.readAsArrayBuffer(file);\n",
              "    });\n",
              "    // Wait for the data to be ready.\n",
              "    let fileData = yield {\n",
              "      promise: fileDataPromise,\n",
              "      response: {\n",
              "        action: 'continue',\n",
              "      }\n",
              "    };\n",
              "\n",
              "    // Use a chunked sending to avoid message size limits. See b/62115660.\n",
              "    let position = 0;\n",
              "    do {\n",
              "      const length = Math.min(fileData.byteLength - position, MAX_PAYLOAD_SIZE);\n",
              "      const chunk = new Uint8Array(fileData, position, length);\n",
              "      position += length;\n",
              "\n",
              "      const base64 = btoa(String.fromCharCode.apply(null, chunk));\n",
              "      yield {\n",
              "        response: {\n",
              "          action: 'append',\n",
              "          file: file.name,\n",
              "          data: base64,\n",
              "        },\n",
              "      };\n",
              "\n",
              "      let percentDone = fileData.byteLength === 0 ?\n",
              "          100 :\n",
              "          Math.round((position / fileData.byteLength) * 100);\n",
              "      percent.textContent = `${percentDone}% done`;\n",
              "\n",
              "    } while (position < fileData.byteLength);\n",
              "  }\n",
              "\n",
              "  // All done.\n",
              "  yield {\n",
              "    response: {\n",
              "      action: 'complete',\n",
              "    }\n",
              "  };\n",
              "}\n",
              "\n",
              "scope.google = scope.google || {};\n",
              "scope.google.colab = scope.google.colab || {};\n",
              "scope.google.colab._files = {\n",
              "  _uploadFiles,\n",
              "  _uploadFilesContinue,\n",
              "};\n",
              "})(self);\n",
              "</script> "
            ],
            "text/plain": [
              "<IPython.core.display.HTML object>"
            ]
          },
          "metadata": {},
          "output_type": "display_data"
        },
        {
          "name": "stdout",
          "output_type": "stream",
          "text": [
            "Saving p&p dataset.txt to p&p dataset (2).txt\n"
          ]
        }
      ],
      "source": [
        "from google.colab import files\n",
        "upload = files.upload()"
      ]
    },
    {
      "cell_type": "code",
      "execution_count": null,
      "metadata": {
        "colab": {
          "base_uri": "https://localhost:8080/",
          "height": 89
        },
        "id": "kSVFHhA7Crfm",
        "outputId": "712f3918-fa78-45b4-cdf0-73842e640625"
      },
      "outputs": [
        {
          "data": {
            "application/vnd.google.colaboratory.intrinsic+json": {
              "type": "string"
            },
            "text/plain": [
              "'The Project Gutenberg eBook of Pride and prejudice, by Jane Austen This eBook is for the use of anyone anywhere in the United States and most other parts of the world at no cost and with almost no restrictions whatsoever. You may copy it, give it away or re-use it under the terms of the Project Gutenberg License included with this eBook or online at www.gutenberg.org. If you are not located in the United States, you will have to check the laws of the country where you are located before using th'"
            ]
          },
          "execution_count": 6,
          "metadata": {},
          "output_type": "execute_result"
        }
      ],
      "source": [
        "file = open(\"p&p dataset.txt\", \"r\", encoding = \"utf8\")\n",
        "\n",
        "# store file in list\n",
        "lines = []\n",
        "for i in file:\n",
        "    lines.append(i)\n",
        "\n",
        "# Convert list to string\n",
        "data = \"\"\n",
        "for i in lines:\n",
        "  data = ' '. join(lines)\n",
        "\n",
        "#replace unnecessary stuff with space\n",
        "data = data.replace('\\n', '').replace('\\r', '').replace('\\ufeff', '').replace('“','').replace('”','')  #new line, carriage return, unicode character --> replace by space\n",
        "\n",
        "#remove unnecessary spaces\n",
        "data = data.split()\n",
        "data = ' '.join(data)\n",
        "data[:500]\n",
        "\n",
        "\n",
        "\n",
        "\n",
        "\n",
        "\n",
        "\n",
        "\n",
        "\n",
        "\n",
        "\n",
        "\n",
        "\n",
        "\n",
        "\n",
        "\n",
        "\n",
        "\n",
        "\n"
      ]
    },
    {
      "cell_type": "code",
      "execution_count": null,
      "metadata": {
        "colab": {
          "base_uri": "https://localhost:8080/"
        },
        "id": "NBPYhBMvCrW_",
        "outputId": "d75c7be2-32ed-4051-ffa0-eac4c4156288"
      },
      "outputs": [
        {
          "data": {
            "text/plain": [
              "733811"
            ]
          },
          "execution_count": 7,
          "metadata": {},
          "output_type": "execute_result"
        }
      ],
      "source": [
        "len(data)"
      ]
    },
    {
      "cell_type": "markdown",
      "metadata": {
        "id": "wZgJmnnkDBIo"
      },
      "source": [
        "Step 4: Apply tokenization and some other changes"
      ]
    },
    {
      "cell_type": "code",
      "execution_count": null,
      "metadata": {
        "id": "_X8W5caRCrRT"
      },
      "outputs": [],
      "source": [
        "tokenizer = Tokenizer()\n",
        "tokenizer.fit_on_texts([data])"
      ]
    },
    {
      "cell_type": "code",
      "execution_count": null,
      "metadata": {
        "colab": {
          "base_uri": "https://localhost:8080/"
        },
        "id": "HKm-pS1KCrIK",
        "outputId": "609eac71-46d9-49a9-a99f-012f346ca74a"
      },
      "outputs": [
        {
          "data": {
            "text/plain": [
              "[1, 182, 164, 1001, 3, 299, 4, 946, 30, 72, 710, 41, 1001, 23, 21]"
            ]
          },
          "execution_count": 9,
          "metadata": {},
          "output_type": "execute_result"
        }
      ],
      "source": [
        "# saving the tokenizer for predict function\n",
        "pickle.dump(tokenizer, open('token.pkl', 'wb'))\n",
        "\n",
        "sequence_data = tokenizer.texts_to_sequences([data])[0]\n",
        "sequence_data[:15]"
      ]
    },
    {
      "cell_type": "code",
      "execution_count": null,
      "metadata": {
        "colab": {
          "base_uri": "https://localhost:8080/"
        },
        "id": "PLIMKJEgCrC1",
        "outputId": "dca50a46-1e71-4817-aff4-888b8ba46e14"
      },
      "outputs": [
        {
          "data": {
            "text/plain": [
              "131231"
            ]
          },
          "execution_count": 10,
          "metadata": {},
          "output_type": "execute_result"
        }
      ],
      "source": [
        "len(sequence_data)"
      ]
    },
    {
      "cell_type": "code",
      "execution_count": null,
      "metadata": {
        "colab": {
          "base_uri": "https://localhost:8080/"
        },
        "id": "e3Jk5ketCq9o",
        "outputId": "e6840ca7-a4b7-4e4f-c17a-24569d4451ef"
      },
      "outputs": [
        {
          "name": "stdout",
          "output_type": "stream",
          "text": [
            "7248\n"
          ]
        }
      ],
      "source": [
        "vocab_size = len(tokenizer.word_index) + 1\n",
        "print(vocab_size)"
      ]
    },
    {
      "cell_type": "code",
      "execution_count": null,
      "metadata": {
        "id": "NFHgjHv6Cq3L"
      },
      "outputs": [],
      "source": [
        "sequences = []"
      ]
    },
    {
      "cell_type": "code",
      "execution_count": null,
      "metadata": {
        "id": "QHRWGjOzCquU"
      },
      "outputs": [],
      "source": [
        "for i in range(3, len(sequence_data)):\n",
        "    words = sequence_data[i-3:i+1]\n",
        "    sequences.append(words)"
      ]
    },
    {
      "cell_type": "code",
      "execution_count": null,
      "metadata": {
        "colab": {
          "base_uri": "https://localhost:8080/"
        },
        "id": "k2yfZvWNDZ2b",
        "outputId": "f871cfa2-e637-47bd-8cf6-cf84f56a57f7"
      },
      "outputs": [
        {
          "name": "stdout",
          "output_type": "stream",
          "text": [
            "The Length of sequences are:  131228\n"
          ]
        },
        {
          "data": {
            "text/plain": [
              "array([[   1,  182,  164, 1001],\n",
              "       [ 182,  164, 1001,    3],\n",
              "       [ 164, 1001,    3,  299],\n",
              "       [1001,    3,  299,    4],\n",
              "       [   3,  299,    4,  946],\n",
              "       [ 299,    4,  946,   30],\n",
              "       [   4,  946,   30,   72],\n",
              "       [ 946,   30,   72,  710],\n",
              "       [  30,   72,  710,   41],\n",
              "       [  72,  710,   41, 1001]])"
            ]
          },
          "execution_count": 14,
          "metadata": {},
          "output_type": "execute_result"
        }
      ],
      "source": [
        "print(\"The Length of sequences are: \", len(sequences))\n",
        "sequences = np.array(sequences)\n",
        "sequences[:10]"
      ]
    },
    {
      "cell_type": "code",
      "execution_count": null,
      "metadata": {
        "id": "aBznNGeMDZyy"
      },
      "outputs": [],
      "source": [
        "X = []\n",
        "y = []"
      ]
    },
    {
      "cell_type": "code",
      "execution_count": null,
      "metadata": {
        "id": "304uVhKzDZsp"
      },
      "outputs": [],
      "source": [
        "\n",
        "for i in sequences:\n",
        "    X.append(i[0:3])\n",
        "    y.append(i[3])\n",
        "\n",
        "X = np.array(X)\n",
        "y = np.array(y)\n",
        "\n"
      ]
    },
    {
      "cell_type": "code",
      "execution_count": null,
      "metadata": {
        "colab": {
          "base_uri": "https://localhost:8080/"
        },
        "id": "KGwWlNr_DuGf",
        "outputId": "2ef125a1-0460-4ad5-f049-b9fd37d9ee26"
      },
      "outputs": [
        {
          "name": "stdout",
          "output_type": "stream",
          "text": [
            "Data:  [[   1  182  164]\n",
            " [ 182  164 1001]\n",
            " [ 164 1001    3]\n",
            " [1001    3  299]\n",
            " [   3  299    4]\n",
            " [ 299    4  946]\n",
            " [   4  946   30]\n",
            " [ 946   30   72]\n",
            " [  30   72  710]\n",
            " [  72  710   41]]\n",
            "Response:  [1001    3  299    4  946   30   72  710   41 1001]\n"
          ]
        }
      ],
      "source": [
        "print(\"Data: \", X[:10])\n",
        "print(\"Response: \", y[:10])"
      ]
    },
    {
      "cell_type": "code",
      "execution_count": null,
      "metadata": {
        "colab": {
          "base_uri": "https://localhost:8080/"
        },
        "id": "SQZ3rNWdDhGu",
        "outputId": "4bd44438-dcb0-43cf-990c-257066fa4c01"
      },
      "outputs": [
        {
          "data": {
            "text/plain": [
              "array([[0., 0., 0., ..., 0., 0., 0.],\n",
              "       [0., 0., 0., ..., 0., 0., 0.],\n",
              "       [0., 0., 0., ..., 0., 0., 0.],\n",
              "       [0., 0., 0., ..., 0., 0., 0.],\n",
              "       [0., 0., 0., ..., 0., 0., 0.]], dtype=float32)"
            ]
          },
          "execution_count": 18,
          "metadata": {},
          "output_type": "execute_result"
        }
      ],
      "source": [
        "y = to_categorical(y, num_classes=vocab_size)\n",
        "y[:5]"
      ]
    },
    {
      "cell_type": "markdown",
      "metadata": {
        "id": "UnE2jMlwD0UW"
      },
      "source": [
        "Step 5: Creating the model"
      ]
    },
    {
      "cell_type": "code",
      "execution_count": null,
      "metadata": {
        "id": "KcbCSQqzDwpn"
      },
      "outputs": [],
      "source": [
        "model = Sequential()\n",
        "model.add(Embedding(vocab_size, 10, input_length=3))\n",
        "model.add(LSTM(1000, return_sequences=True))\n",
        "model.add(LSTM(1000))\n",
        "model.add(Dense(1000, activation=\"relu\"))\n",
        "model.add(Dense(vocab_size, activation=\"softmax\"))"
      ]
    },
    {
      "cell_type": "code",
      "execution_count": null,
      "metadata": {
        "colab": {
          "base_uri": "https://localhost:8080/"
        },
        "id": "DF8fGkS8DwnJ",
        "outputId": "69ed2562-430a-4999-fcdb-f59a684d5b0e"
      },
      "outputs": [
        {
          "name": "stdout",
          "output_type": "stream",
          "text": [
            "Model: \"sequential_1\"\n",
            "_________________________________________________________________\n",
            " Layer (type)                Output Shape              Param #   \n",
            "=================================================================\n",
            " embedding (Embedding)       (None, 3, 10)             72480     \n",
            "                                                                 \n",
            " lstm (LSTM)                 (None, 3, 1000)           4044000   \n",
            "                                                                 \n",
            " lstm_1 (LSTM)               (None, 1000)              8004000   \n",
            "                                                                 \n",
            " dense (Dense)               (None, 1000)              1001000   \n",
            "                                                                 \n",
            " dense_1 (Dense)             (None, 7248)              7255248   \n",
            "                                                                 \n",
            "=================================================================\n",
            "Total params: 20,376,728\n",
            "Trainable params: 20,376,728\n",
            "Non-trainable params: 0\n",
            "_________________________________________________________________\n"
          ]
        }
      ],
      "source": [
        "model.summary()"
      ]
    },
    {
      "cell_type": "markdown",
      "metadata": {
        "id": "OLzyA0Q0EIPi"
      },
      "source": [
        "Step 6: Plot the model"
      ]
    },
    {
      "cell_type": "code",
      "execution_count": null,
      "metadata": {
        "colab": {
          "base_uri": "https://localhost:8080/",
          "height": 564
        },
        "id": "mxGOQ_TLDwkC",
        "outputId": "2f1bff8b-458b-47b1-96c1-c5f84b586553"
      },
      "outputs": [
        {
          "data": {
            "image/png": "[encoded data removed]",
            "text/plain": [
              "<IPython.core.display.Image object>"
            ]
          },
          "execution_count": 21,
          "metadata": {},
          "output_type": "execute_result"
        }
      ],
      "source": [
        "from tensorflow import keras\n",
        "from keras.utils.vis_utils import plot_model\n",
        "\n",
        "keras.utils.plot_model(model, to_file='plot.png', show_layer_names=True)"
      ]
    },
    {
      "cell_type": "markdown",
      "metadata": {
        "id": "o9tRZ5wDERVT"
      },
      "source": [
        "Step 7: Train the model\n"
      ]
    },
    {
      "cell_type": "code",
      "execution_count": null,
      "metadata": {
        "colab": {
          "base_uri": "https://localhost:8080/"
        },
        "id": "YntVMOQ6Dwhb",
        "outputId": "89c30aec-598e-443a-b995-db14cbe9b980"
      },
      "outputs": [
        {
          "name": "stdout",
          "output_type": "stream",
          "text": [
            "Epoch 1/40\n",
            "2050/2051 [============================>.] - ETA: 0s - loss: 6.2075\n",
            "Epoch 1: loss improved from inf to 6.20738, saving model to next_words.h5\n",
            "2051/2051 [==============================] - 39s 15ms/step - loss: 6.2074\n",
            "Epoch 2/40\n",
            "2050/2051 [============================>.] - ETA: 0s - loss: 5.5933\n",
            "Epoch 2: loss improved from 6.20738 to 5.59319, saving model to next_words.h5\n",
            "2051/2051 [==============================] - 32s 16ms/step - loss: 5.5932\n",
            "Epoch 3/40\n",
            "2049/2051 [============================>.] - ETA: 0s - loss: 5.2759\n",
            "Epoch 3: loss improved from 5.59319 to 5.27591, saving model to next_words.h5\n",
            "2051/2051 [==============================] - 32s 15ms/step - loss: 5.2759\n",
            "Epoch 4/40\n",
            "2049/2051 [============================>.] - ETA: 0s - loss: 5.0505\n",
            "Epoch 4: loss improved from 5.27591 to 5.05061, saving model to next_words.h5\n",
            "2051/2051 [==============================] - 31s 15ms/step - loss: 5.0506\n",
            "Epoch 5/40\n",
            "2051/2051 [==============================] - ETA: 0s - loss: 4.8430\n",
            "Epoch 5: loss improved from 5.05061 to 4.84300, saving model to next_words.h5\n",
            "2051/2051 [==============================] - 31s 15ms/step - loss: 4.8430\n",
            "Epoch 6/40\n",
            "2051/2051 [==============================] - ETA: 0s - loss: 4.6391\n",
            "Epoch 6: loss improved from 4.84300 to 4.63913, saving model to next_words.h5\n",
            "2051/2051 [==============================] - 31s 15ms/step - loss: 4.6391\n",
            "Epoch 7/40\n",
            "2049/2051 [============================>.] - ETA: 0s - loss: 4.4357\n",
            "Epoch 7: loss improved from 4.63913 to 4.43585, saving model to next_words.h5\n",
            "2051/2051 [==============================] - 32s 15ms/step - loss: 4.4358\n",
            "Epoch 8/40\n",
            "2049/2051 [============================>.] - ETA: 0s - loss: 4.2283\n",
            "Epoch 8: loss improved from 4.43585 to 4.22874, saving model to next_words.h5\n",
            "2051/2051 [==============================] - 31s 15ms/step - loss: 4.2287\n",
            "Epoch 9/40\n",
            "2051/2051 [==============================] - ETA: 0s - loss: 4.0108\n",
            "Epoch 9: loss improved from 4.22874 to 4.01076, saving model to next_words.h5\n",
            "2051/2051 [==============================] - 31s 15ms/step - loss: 4.0108\n",
            "Epoch 10/40\n",
            "2049/2051 [============================>.] - ETA: 0s - loss: 3.7860\n",
            "Epoch 10: loss improved from 4.01076 to 3.78611, saving model to next_words.h5\n",
            "2051/2051 [==============================] - 31s 15ms/step - loss: 3.7861\n",
            "Epoch 11/40\n",
            "2051/2051 [==============================] - ETA: 0s - loss: 3.5546\n",
            "Epoch 11: loss improved from 3.78611 to 3.55459, saving model to next_words.h5\n",
            "2051/2051 [==============================] - 31s 15ms/step - loss: 3.5546\n",
            "Epoch 12/40\n",
            "2051/2051 [==============================] - ETA: 0s - loss: 3.3219\n",
            "Epoch 12: loss improved from 3.55459 to 3.32188, saving model to next_words.h5\n",
            "2051/2051 [==============================] - 31s 15ms/step - loss: 3.3219\n",
            "Epoch 13/40\n",
            "2050/2051 [============================>.] - ETA: 0s - loss: 3.0912\n",
            "Epoch 13: loss improved from 3.32188 to 3.09132, saving model to next_words.h5\n",
            "2051/2051 [==============================] - 31s 15ms/step - loss: 3.0913\n",
            "Epoch 14/40\n",
            "2048/2051 [============================>.] - ETA: 0s - loss: 2.8561\n",
            "Epoch 14: loss improved from 3.09132 to 2.85647, saving model to next_words.h5\n",
            "2051/2051 [==============================] - 31s 15ms/step - loss: 2.8565\n",
            "Epoch 15/40\n",
            "2050/2051 [============================>.] - ETA: 0s - loss: 2.6209\n",
            "Epoch 15: loss improved from 2.85647 to 2.62084, saving model to next_words.h5\n",
            "2051/2051 [==============================] - 31s 15ms/step - loss: 2.6208\n",
            "Epoch 16/40\n",
            "2048/2051 [============================>.] - ETA: 0s - loss: 2.3826\n",
            "Epoch 16: loss improved from 2.62084 to 2.38261, saving model to next_words.h5\n",
            "2051/2051 [==============================] - 31s 15ms/step - loss: 2.3826\n",
            "Epoch 17/40\n",
            "2048/2051 [============================>.] - ETA: 0s - loss: 2.1511\n",
            "Epoch 17: loss improved from 2.38261 to 2.15143, saving model to next_words.h5\n",
            "2051/2051 [==============================] - 31s 15ms/step - loss: 2.1514\n",
            "Epoch 18/40\n",
            "2049/2051 [============================>.] - ETA: 0s - loss: 1.9284\n",
            "Epoch 18: loss improved from 2.15143 to 1.92866, saving model to next_words.h5\n",
            "2051/2051 [==============================] - 31s 15ms/step - loss: 1.9287\n",
            "Epoch 19/40\n",
            "2050/2051 [============================>.] - ETA: 0s - loss: 1.7268\n",
            "Epoch 19: loss improved from 1.92866 to 1.72675, saving model to next_words.h5\n",
            "2051/2051 [==============================] - 32s 15ms/step - loss: 1.7267\n",
            "Epoch 20/40\n",
            "2050/2051 [============================>.] - ETA: 0s - loss: 1.5397\n",
            "Epoch 20: loss improved from 1.72675 to 1.53980, saving model to next_words.h5\n",
            "2051/2051 [==============================] - 32s 15ms/step - loss: 1.5398\n",
            "Epoch 21/40\n",
            "2048/2051 [============================>.] - ETA: 0s - loss: 1.3772\n",
            "Epoch 21: loss improved from 1.53980 to 1.37751, saving model to next_words.h5\n",
            "2051/2051 [==============================] - 31s 15ms/step - loss: 1.3775\n",
            "Epoch 22/40\n",
            "2049/2051 [============================>.] - ETA: 0s - loss: 1.2434\n",
            "Epoch 22: loss improved from 1.37751 to 1.24377, saving model to next_words.h5\n",
            "2051/2051 [==============================] - 31s 15ms/step - loss: 1.2438\n",
            "Epoch 23/40\n",
            "2050/2051 [============================>.] - ETA: 0s - loss: 1.1352\n",
            "Epoch 23: loss improved from 1.24377 to 1.13521, saving model to next_words.h5\n",
            "2051/2051 [==============================] - 31s 15ms/step - loss: 1.1352\n",
            "Epoch 24/40\n",
            "2050/2051 [============================>.] - ETA: 0s - loss: 1.0400\n",
            "Epoch 24: loss improved from 1.13521 to 1.03991, saving model to next_words.h5\n",
            "2051/2051 [==============================] - 31s 15ms/step - loss: 1.0399\n",
            "Epoch 25/40\n",
            "2050/2051 [============================>.] - ETA: 0s - loss: 0.9655\n",
            "Epoch 25: loss improved from 1.03991 to 0.96551, saving model to next_words.h5\n",
            "2051/2051 [==============================] - 31s 15ms/step - loss: 0.9655\n",
            "Epoch 26/40\n",
            "2048/2051 [============================>.] - ETA: 0s - loss: 0.9026\n",
            "Epoch 26: loss improved from 0.96551 to 0.90281, saving model to next_words.h5\n",
            "2051/2051 [==============================] - 31s 15ms/step - loss: 0.9028\n",
            "Epoch 27/40\n",
            "2049/2051 [============================>.] - ETA: 0s - loss: 0.8536\n",
            "Epoch 27: loss improved from 0.90281 to 0.85351, saving model to next_words.h5\n",
            "2051/2051 [==============================] - 31s 15ms/step - loss: 0.8535\n",
            "Epoch 28/40\n",
            "2048/2051 [============================>.] - ETA: 0s - loss: 0.8148\n",
            "Epoch 28: loss improved from 0.85351 to 0.81495, saving model to next_words.h5\n",
            "2051/2051 [==============================] - 32s 15ms/step - loss: 0.8150\n",
            "Epoch 29/40\n",
            "2051/2051 [==============================] - ETA: 0s - loss: 0.7764\n",
            "Epoch 29: loss improved from 0.81495 to 0.77636, saving model to next_words.h5\n",
            "2051/2051 [==============================] - 31s 15ms/step - loss: 0.7764\n",
            "Epoch 30/40\n",
            "2050/2051 [============================>.] - ETA: 0s - loss: 0.7436\n",
            "Epoch 30: loss improved from 0.77636 to 0.74361, saving model to next_words.h5\n",
            "2051/2051 [==============================] - 31s 15ms/step - loss: 0.7436\n",
            "Epoch 31/40\n",
            "2050/2051 [============================>.] - ETA: 0s - loss: 0.7180\n",
            "Epoch 31: loss improved from 0.74361 to 0.71817, saving model to next_words.h5\n",
            "2051/2051 [==============================] - 31s 15ms/step - loss: 0.7182\n",
            "Epoch 32/40\n",
            "2049/2051 [============================>.] - ETA: 0s - loss: 0.7018\n",
            "Epoch 32: loss improved from 0.71817 to 0.70177, saving model to next_words.h5\n",
            "2051/2051 [==============================] - 32s 15ms/step - loss: 0.7018\n",
            "Epoch 33/40\n",
            "2051/2051 [==============================] - ETA: 0s - loss: 0.6772\n",
            "Epoch 33: loss improved from 0.70177 to 0.67716, saving model to next_words.h5\n",
            "2051/2051 [==============================] - 31s 15ms/step - loss: 0.6772\n",
            "Epoch 34/40\n",
            "2050/2051 [============================>.] - ETA: 0s - loss: 0.6654\n",
            "Epoch 34: loss improved from 0.67716 to 0.66542, saving model to next_words.h5\n",
            "2051/2051 [==============================] - 31s 15ms/step - loss: 0.6654\n",
            "Epoch 35/40\n",
            "2049/2051 [============================>.] - ETA: 0s - loss: 0.6482\n",
            "Epoch 35: loss improved from 0.66542 to 0.64832, saving model to next_words.h5\n",
            "2051/2051 [==============================] - 31s 15ms/step - loss: 0.6483\n",
            "Epoch 36/40\n",
            "2049/2051 [============================>.] - ETA: 0s - loss: 0.6341\n",
            "Epoch 36: loss improved from 0.64832 to 0.63418, saving model to next_words.h5\n",
            "2051/2051 [==============================] - 32s 15ms/step - loss: 0.6342\n",
            "Epoch 37/40\n",
            "2050/2051 [============================>.] - ETA: 0s - loss: 0.6186\n",
            "Epoch 37: loss improved from 0.63418 to 0.61865, saving model to next_words.h5\n",
            "2051/2051 [==============================] - 32s 16ms/step - loss: 0.6187\n",
            "Epoch 38/40\n",
            "2051/2051 [==============================] - ETA: 0s - loss: 0.6108\n",
            "Epoch 38: loss improved from 0.61865 to 0.61079, saving model to next_words.h5\n",
            "2051/2051 [==============================] - 32s 16ms/step - loss: 0.6108\n",
            "Epoch 39/40\n",
            "2048/2051 [============================>.] - ETA: 0s - loss: 0.5957\n",
            "Epoch 39: loss improved from 0.61079 to 0.59573, saving model to next_words.h5\n",
            "2051/2051 [==============================] - 32s 15ms/step - loss: 0.5957\n",
            "Epoch 40/40\n",
            "2048/2051 [============================>.] - ETA: 0s - loss: 0.5894\n",
            "Epoch 40: loss improved from 0.59573 to 0.58942, saving model to next_words.h5\n",
            "2051/2051 [==============================] - 32s 16ms/step - loss: 0.5894\n"
          ]
        },
        {
          "data": {
            "text/plain": [
              "<keras.callbacks.History at 0x7fdc9a21a510>"
            ]
          },
          "execution_count": 22,
          "metadata": {},
          "output_type": "execute_result"
        }
      ],
      "source": [
        "from keras.callbacks import ModelCheckpoint\n",
        "\n",
        "checkpoint = ModelCheckpoint(\"next_words.h5\", monitor='loss', verbose=1, save_best_only=True)\n",
        "model.compile(loss=\"categorical_crossentropy\", optimizer=Adam(learning_rate=0.001))\n",
        "model.fit(X, y, epochs=40, batch_size=64, callbacks=[checkpoint])\n"
      ]
    },
    {
      "cell_type": "markdown",
      "metadata": {
        "id": "KykR6oZsEZlK"
      },
      "source": [
        "Step 8: Let's predict\n"
      ]
    },
    {
      "cell_type": "code",
      "source": [
        "from keras.models import load_model\n",
        "import numpy as np\n",
        "import pickle\n",
        "\n",
        "# Load the model and tokenizer\n",
        "model = load_model(\"next_words.h5\")\n",
        "tokenizer = pickle.load(open('token.pkl', 'rb'))\n",
        "\n",
        "def Predict_Next_Words(model, tokenizer, text):\n",
        "\n",
        "  sequence = tokenizer.texts_to_sequences([text])\n",
        "  sequence = np.array(sequence)\n",
        "  preds = np.argmax(model.predict(sequence))\n",
        "  predicted_word = \"\"\n",
        "\n",
        "  for key, value in tokenizer.word_index.items():\n",
        "      if value == preds:\n",
        "          predicted_word = key\n",
        "          break\n",
        "\n",
        "  print(predicted_word)\n",
        "  return predicted_word"
      ],
      "metadata": {
        "id": "ciM4wmvxkGKC"
      },
      "execution_count": null,
      "outputs": []
    },
    {
      "cell_type": "code",
      "execution_count": null,
      "metadata": {
        "colab": {
          "base_uri": "https://localhost:8080/"
        },
        "id": "upGbxMGLDwcH",
        "outputId": "ec9d95f3-4bbe-4273-c726-c42d9b426adb"
      },
      "outputs": [
        {
          "name": "stdout",
          "output_type": "stream",
          "text": [
            "['You', 'may', 'copy']\n",
            "1/1 [==============================] - 1s 926ms/step\n",
            "it\n",
            "['You', 'may', 'copy']\n",
            "1/1 [==============================] - 0s 16ms/step\n",
            "it\n",
            "['If', 'you', 'are']\n",
            "1/1 [==============================] - 0s 17ms/step\n",
            "not\n",
            "['START', 'OF', 'THE']\n",
            "1/1 [==============================] - 0s 19ms/step\n",
            "project\n",
            "['what', 'is', 'the']\n",
            "1/1 [==============================] - 0s 18ms/step\n",
            "good\n",
            "Enter your line: 0\n",
            "Execution completed.....\n"
          ]
        }
      ],
      "source": [
        "while(True):\n",
        "  text = input(\"Enter your line: \")\n",
        "\n",
        "  if text == \"0\":\n",
        "      print(\"Execution completed.....\")\n",
        "      break\n",
        "\n",
        "  else:\n",
        "      try:\n",
        "          text = text.split(\" \")\n",
        "          text = text[-3:]\n",
        "          print(text)\n",
        "\n",
        "          Predict_Next_Words(model, tokenizer, text)\n",
        "\n",
        "      except Exception as e:\n",
        "        print(\"Error occurred: \",e)\n",
        "        continue"
      ]
    }
  ],
  "metadata": {
    "accelerator": "GPU",
    "colab": {
      "provenance": [],
      "include_colab_link": true
    },
    "gpuClass": "standard",
    "kernelspec": {
      "display_name": "Python 3",
      "language": "python",
      "name": "python3"
    },
    "language_info": {
      "name": "python",
      "version": "3.10.6"
    },
    "vscode": {
      "interpreter": {
        "hash": "b0fa6594d8f4cbf19f97940f81e996739fb7646882a419484c72d19e05852a7e"
      }
    }
  },
  "nbformat": 4,
  "nbformat_minor": 0
}